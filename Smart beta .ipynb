{
  "nbformat": 4,
  "nbformat_minor": 0,
  "metadata": {
    "colab": {
      "provenance": [],
      "authorship_tag": "ABX9TyMN+A+j1MrnxuBoHol5X1rB",
      "include_colab_link": true
    },
    "kernelspec": {
      "name": "python3",
      "display_name": "Python 3"
    },
    "language_info": {
      "name": "python"
    }
  },
  "cells": [
    {
      "cell_type": "markdown",
      "metadata": {
        "id": "view-in-github",
        "colab_type": "text"
      },
      "source": [
        "<a href=\"https://colab.research.google.com/github/JuhiGola21/smart-beta-strategy-ml/blob/main/Smart%20beta%20.ipynb\" target=\"_parent\"><img src=\"https://colab.research.google.com/assets/colab-badge.svg\" alt=\"Open In Colab\"/></a>"
      ]
    },
    {
      "cell_type": "code",
      "execution_count": 2,
      "metadata": {
        "colab": {
          "base_uri": "https://localhost:8080/"
        },
        "id": "v7e8S-wDOcdP",
        "outputId": "00d01c90-a890-485a-ef8a-6ff341f7d1d5"
      },
      "outputs": [
        {
          "output_type": "stream",
          "name": "stderr",
          "text": [
            "[*********************100%***********************]  5 of 5 completed\n",
            "ERROR:yfinance:\n",
            "5 Failed downloads:\n",
            "ERROR:yfinance:['AMZN', 'META', 'GOOGL', 'MSFT', 'AAPL']: YFRateLimitError('Too Many Requests. Rate limited. Try after a while.')\n"
          ]
        }
      ],
      "source": [
        "import yfinance as yf\n",
        "import pandas as pd\n",
        "import numpy as np\n",
        "\n",
        "\n",
        "# Fetch data for a basket of assets (e.g., S&P 500 stocks)\n",
        "tickers = [\"AAPL\", \"MSFT\", \"GOOGL\", \"AMZN\", \"META\"]\n",
        "data = yf.download(tickers, start=\"2015-01-01\", end=\"2024-01-01\")[\"Adj Close\"]\n",
        "\n",
        "# Calculate returns and volatility\n",
        "returns = data.pct_change().dropna()\n",
        "volatility = returns.rolling(window=21).std() * np.sqrt(252)"
      ]
    },
    {
      "cell_type": "code",
      "source": [
        "# Momentum signal (12-month returns)\n",
        "momentum = data.pct_change(252).dropna()\n",
        "!pip install ta\n",
        "# Mean-reversion signal (RSI)\n",
        "from ta.momentum import RSIIndicator\n",
        "rsi = RSIIndicator(data[\"AAPL\"], window=14).rsi()"
      ],
      "metadata": {
        "colab": {
          "base_uri": "https://localhost:8080/"
        },
        "id": "eVPTYP76OucM",
        "outputId": "c0dabccd-42e0-4277-ae06-f85f25be2b47"
      },
      "execution_count": 5,
      "outputs": [
        {
          "output_type": "stream",
          "name": "stdout",
          "text": [
            "Collecting ta\n",
            "  Downloading ta-0.11.0.tar.gz (25 kB)\n",
            "  Preparing metadata (setup.py) ... \u001b[?25l\u001b[?25hdone\n",
            "Requirement already satisfied: numpy in /usr/local/lib/python3.11/dist-packages (from ta) (2.0.2)\n",
            "Requirement already satisfied: pandas in /usr/local/lib/python3.11/dist-packages (from ta) (2.2.2)\n",
            "Requirement already satisfied: python-dateutil>=2.8.2 in /usr/local/lib/python3.11/dist-packages (from pandas->ta) (2.9.0.post0)\n",
            "Requirement already satisfied: pytz>=2020.1 in /usr/local/lib/python3.11/dist-packages (from pandas->ta) (2025.2)\n",
            "Requirement already satisfied: tzdata>=2022.7 in /usr/local/lib/python3.11/dist-packages (from pandas->ta) (2025.2)\n",
            "Requirement already satisfied: six>=1.5 in /usr/local/lib/python3.11/dist-packages (from python-dateutil>=2.8.2->pandas->ta) (1.17.0)\n",
            "Building wheels for collected packages: ta\n",
            "  Building wheel for ta (setup.py) ... \u001b[?25l\u001b[?25hdone\n",
            "  Created wheel for ta: filename=ta-0.11.0-py3-none-any.whl size=29412 sha256=11bce798505f8075ea936d37681c694feeab3feea3af4c9077c8ffe2be744cc2\n",
            "  Stored in directory: /root/.cache/pip/wheels/a1/d7/29/7781cc5eb9a3659d032d7d15bdd0f49d07d2b24fec29f44bc4\n",
            "Successfully built ta\n",
            "Installing collected packages: ta\n",
            "Successfully installed ta-0.11.0\n"
          ]
        }
      ]
    },
    {
      "cell_type": "code",
      "source": [
        "# Machine Learning (Volatility Prediction)\n",
        "\n",
        "import numpy as np\n",
        "import pandas as pd\n",
        "from tensorflow.keras.models import Sequential\n",
        "from tensorflow.keras.layers import LSTM, Dense\n",
        "\n",
        "# Sample volatility data (replace with your actual data)\n",
        "volatility = pd.Series(np.random.rand(100)*0.2 + 0.1)  # Fake volatility between 10%-30%\n",
        "\n",
        "# 1. Prepare data with proper sliding windows\n",
        "def create_dataset(data, n_steps=21):\n",
        "    X, y = [], []\n",
        "    for i in range(len(data) - n_steps - 1):\n",
        "        X.append(data[i:(i + n_steps)])\n",
        "        y.append(data[i + n_steps])\n",
        "    return np.array(X), np.array(y)\n",
        "\n",
        "# 2. Create sequences\n",
        "X, y = create_dataset(volatility.values)\n",
        "\n",
        "# 3. Reshape for LSTM [samples, timesteps, features]\n",
        "X = X.reshape((X.shape[0], X.shape[1], 1))\n",
        "\n",
        "# 4. Build and train model\n",
        "model = Sequential([\n",
        "    LSTM(32, input_shape=(X.shape[1], 1)),\n",
        "    Dense(1)\n",
        "])\n",
        "model.compile(optimizer='adam', loss='mse')\n",
        "model.fit(X, y, epochs=10, batch_size=8, verbose=1)\n",
        "\n",
        "# 5. Make prediction\n",
        "last_21_days = volatility.values[-21:].reshape(1, 21, 1)\n",
        "predicted_vol = model.predict(last_21_days)[0][0]\n",
        "print(f\"Predicted next-day volatility: {predicted_vol:.4f}\")"
      ],
      "metadata": {
        "colab": {
          "base_uri": "https://localhost:8080/"
        },
        "id": "kM000jYLP5Sc",
        "outputId": "23587d30-9731-4fd7-e960-c6b421f03237"
      },
      "execution_count": 10,
      "outputs": [
        {
          "output_type": "stream",
          "name": "stdout",
          "text": [
            "Epoch 1/10\n",
            "\u001b[1m10/10\u001b[0m \u001b[32m━━━━━━━━━━━━━━━━━━━━\u001b[0m\u001b[37m\u001b[0m \u001b[1m2s\u001b[0m 9ms/step - loss: 0.0384\n",
            "Epoch 2/10\n",
            "\u001b[1m10/10\u001b[0m \u001b[32m━━━━━━━━━━━━━━━━━━━━\u001b[0m\u001b[37m\u001b[0m \u001b[1m0s\u001b[0m 10ms/step - loss: 0.0059\n",
            "Epoch 3/10\n",
            "\u001b[1m10/10\u001b[0m \u001b[32m━━━━━━━━━━━━━━━━━━━━\u001b[0m\u001b[37m\u001b[0m \u001b[1m0s\u001b[0m 8ms/step - loss: 0.0056\n",
            "Epoch 4/10\n",
            "\u001b[1m10/10\u001b[0m \u001b[32m━━━━━━━━━━━━━━━━━━━━\u001b[0m\u001b[37m\u001b[0m \u001b[1m0s\u001b[0m 9ms/step - loss: 0.0037\n",
            "Epoch 5/10\n",
            "\u001b[1m10/10\u001b[0m \u001b[32m━━━━━━━━━━━━━━━━━━━━\u001b[0m\u001b[37m\u001b[0m \u001b[1m0s\u001b[0m 10ms/step - loss: 0.0030\n",
            "Epoch 6/10\n",
            "\u001b[1m10/10\u001b[0m \u001b[32m━━━━━━━━━━━━━━━━━━━━\u001b[0m\u001b[37m\u001b[0m \u001b[1m0s\u001b[0m 8ms/step - loss: 0.0036\n",
            "Epoch 7/10\n",
            "\u001b[1m10/10\u001b[0m \u001b[32m━━━━━━━━━━━━━━━━━━━━\u001b[0m\u001b[37m\u001b[0m \u001b[1m0s\u001b[0m 9ms/step - loss: 0.0033\n",
            "Epoch 8/10\n",
            "\u001b[1m10/10\u001b[0m \u001b[32m━━━━━━━━━━━━━━━━━━━━\u001b[0m\u001b[37m\u001b[0m \u001b[1m0s\u001b[0m 9ms/step - loss: 0.0041\n",
            "Epoch 9/10\n",
            "\u001b[1m10/10\u001b[0m \u001b[32m━━━━━━━━━━━━━━━━━━━━\u001b[0m\u001b[37m\u001b[0m \u001b[1m0s\u001b[0m 8ms/step - loss: 0.0031\n",
            "Epoch 10/10\n",
            "\u001b[1m10/10\u001b[0m \u001b[32m━━━━━━━━━━━━━━━━━━━━\u001b[0m\u001b[37m\u001b[0m \u001b[1m0s\u001b[0m 8ms/step - loss: 0.0035\n",
            "\u001b[1m1/1\u001b[0m \u001b[32m━━━━━━━━━━━━━━━━━━━━\u001b[0m\u001b[37m\u001b[0m \u001b[1m0s\u001b[0m 174ms/step\n",
            "Predicted next-day volatility: 0.1935\n"
          ]
        }
      ]
    },
    {
      "cell_type": "code",
      "source": [
        "# Install required packages\n",
        "!pip install PyPortfolioOpt yfinance\n",
        "\n",
        "import numpy as np\n",
        "import pandas as pd\n",
        "import yfinance as yf\n",
        "from pypfopt import EfficientFrontier, risk_models\n",
        "\n",
        "# --------------------------------------------------\n",
        "# 1. GET OR GENERATE RETURNS DATA\n",
        "# --------------------------------------------------\n",
        "\n",
        "def get_returns_data(tickers=['AAPL', 'MSFT', 'GOOG'], start_date='2022-01-01', end_date='2023-01-01'):\n",
        "    \"\"\"Fetch stock data from Yahoo Finance or generate synthetic data if unavailable\"\"\"\n",
        "    try:\n",
        "        # Try to get real stock data\n",
        "        print(\"Downloading real stock data...\")\n",
        "        data = yf.download(tickers, start=start_date, end=end_date)['Adj Close']\n",
        "        returns = data.pct_change().dropna()\n",
        "    except:\n",
        "        # Fallback to synthetic data\n",
        "        print(\"Using synthetic data instead...\")\n",
        "        dates = pd.date_range(start_date, end_date, freq='B')  # Business days\n",
        "        returns = pd.DataFrame(\n",
        "            np.random.normal(0.0005, 0.02, (len(dates), len(tickers))),\n",
        "            index=dates,\n",
        "            columns=tickers\n",
        "        )\n",
        "        returns = returns.dropna()\n",
        "\n",
        "    return returns\n",
        "\n",
        "# Get returns data\n",
        "returns = get_returns_data()\n",
        "print(f\"\\nReturns data shape: {returns.shape}\")\n",
        "print(returns.head())\n",
        "\n",
        "# --------------------------------------------------\n",
        "# 2. DATA VALIDATION\n",
        "# --------------------------------------------------\n",
        "\n",
        "if not isinstance(returns, pd.DataFrame) or returns.empty:\n",
        "    # If we still have no data, create very simple synthetic data\n",
        "    print(\"Warning: No valid returns data - using minimal synthetic example\")\n",
        "    returns = pd.DataFrame({\n",
        "        'AAPL': [0.01, 0.02, -0.01],\n",
        "        'MSFT': [0.015, -0.005, 0.02],\n",
        "        'GOOG': [0.005, 0.01, 0.015]\n",
        "    })\n",
        "\n",
        "# --------------------------------------------------\n",
        "# 3. PORTFOLIO OPTIMIZATION\n",
        "# --------------------------------------------------\n",
        "\n",
        "try:\n",
        "    # Calculate covariance matrix with fallbacks\n",
        "    try:\n",
        "        cov_matrix = risk_models.exp_cov(returns, span=180)\n",
        "    except:\n",
        "        cov_matrix = returns.cov()\n",
        "\n",
        "    # Calculate expected returns\n",
        "    mu = returns.mean()\n",
        "\n",
        "    # Create and optimize efficient frontier\n",
        "    ef = EfficientFrontier(mu, cov_matrix)\n",
        "    weights = ef.max_sharpe()\n",
        "    cleaned_weights = ef.clean_weights()\n",
        "\n",
        "    print(\"\\nOptimal Portfolio Weights:\")\n",
        "    for k, v in cleaned_weights.items():\n",
        "        print(f\"{k}: {v:.2%}\")\n",
        "\n",
        "except Exception as e:\n",
        "    print(f\"\\nOptimization failed: {str(e)}\")\n",
        "    if len(returns) < 3:\n",
        "        print(\"Need at least 3 observations for portfolio optimization\")"
      ],
      "metadata": {
        "colab": {
          "base_uri": "https://localhost:8080/"
        },
        "id": "WRT3P_SgTLES",
        "outputId": "2ada2c26-53e8-493e-b580-89ddb4500d13"
      },
      "execution_count": 17,
      "outputs": [
        {
          "output_type": "stream",
          "name": "stdout",
          "text": [
            "Requirement already satisfied: PyPortfolioOpt in /usr/local/lib/python3.11/dist-packages (1.5.6)\n",
            "Requirement already satisfied: yfinance in /usr/local/lib/python3.11/dist-packages (0.2.57)\n",
            "Requirement already satisfied: cvxpy>=1.1.19 in /usr/local/lib/python3.11/dist-packages (from PyPortfolioOpt) (1.6.5)\n",
            "Requirement already satisfied: ecos<3.0.0,>=2.0.14 in /usr/local/lib/python3.11/dist-packages (from PyPortfolioOpt) (2.0.14)\n",
            "Requirement already satisfied: numpy>=1.26.0 in /usr/local/lib/python3.11/dist-packages (from PyPortfolioOpt) (2.0.2)\n",
            "Requirement already satisfied: pandas>=0.19 in /usr/local/lib/python3.11/dist-packages (from PyPortfolioOpt) (2.2.2)\n",
            "Requirement already satisfied: plotly<6.0.0,>=5.0.0 in /usr/local/lib/python3.11/dist-packages (from PyPortfolioOpt) (5.24.1)\n",
            "Requirement already satisfied: scipy>=1.3 in /usr/local/lib/python3.11/dist-packages (from PyPortfolioOpt) (1.15.2)\n",
            "Requirement already satisfied: requests>=2.31 in /usr/local/lib/python3.11/dist-packages (from yfinance) (2.32.3)\n",
            "Requirement already satisfied: multitasking>=0.0.7 in /usr/local/lib/python3.11/dist-packages (from yfinance) (0.0.11)\n",
            "Requirement already satisfied: platformdirs>=2.0.0 in /usr/local/lib/python3.11/dist-packages (from yfinance) (4.3.7)\n",
            "Requirement already satisfied: pytz>=2022.5 in /usr/local/lib/python3.11/dist-packages (from yfinance) (2025.2)\n",
            "Requirement already satisfied: frozendict>=2.3.4 in /usr/local/lib/python3.11/dist-packages (from yfinance) (2.4.6)\n",
            "Requirement already satisfied: peewee>=3.16.2 in /usr/local/lib/python3.11/dist-packages (from yfinance) (3.18.1)\n",
            "Requirement already satisfied: beautifulsoup4>=4.11.1 in /usr/local/lib/python3.11/dist-packages (from yfinance) (4.13.4)\n",
            "Requirement already satisfied: soupsieve>1.2 in /usr/local/lib/python3.11/dist-packages (from beautifulsoup4>=4.11.1->yfinance) (2.7)\n",
            "Requirement already satisfied: typing-extensions>=4.0.0 in /usr/local/lib/python3.11/dist-packages (from beautifulsoup4>=4.11.1->yfinance) (4.13.2)\n",
            "Requirement already satisfied: osqp>=0.6.2 in /usr/local/lib/python3.11/dist-packages (from cvxpy>=1.1.19->PyPortfolioOpt) (1.0.3)\n",
            "Requirement already satisfied: clarabel>=0.5.0 in /usr/local/lib/python3.11/dist-packages (from cvxpy>=1.1.19->PyPortfolioOpt) (0.10.0)\n",
            "Requirement already satisfied: scs>=3.2.4.post1 in /usr/local/lib/python3.11/dist-packages (from cvxpy>=1.1.19->PyPortfolioOpt) (3.2.7.post2)\n",
            "Requirement already satisfied: python-dateutil>=2.8.2 in /usr/local/lib/python3.11/dist-packages (from pandas>=0.19->PyPortfolioOpt) (2.9.0.post0)\n",
            "Requirement already satisfied: tzdata>=2022.7 in /usr/local/lib/python3.11/dist-packages (from pandas>=0.19->PyPortfolioOpt) (2025.2)\n",
            "Requirement already satisfied: tenacity>=6.2.0 in /usr/local/lib/python3.11/dist-packages (from plotly<6.0.0,>=5.0.0->PyPortfolioOpt) (9.1.2)\n",
            "Requirement already satisfied: packaging in /usr/local/lib/python3.11/dist-packages (from plotly<6.0.0,>=5.0.0->PyPortfolioOpt) (24.2)\n",
            "Requirement already satisfied: charset-normalizer<4,>=2 in /usr/local/lib/python3.11/dist-packages (from requests>=2.31->yfinance) (3.4.1)\n",
            "Requirement already satisfied: idna<4,>=2.5 in /usr/local/lib/python3.11/dist-packages (from requests>=2.31->yfinance) (3.10)\n",
            "Requirement already satisfied: urllib3<3,>=1.21.1 in /usr/local/lib/python3.11/dist-packages (from requests>=2.31->yfinance) (2.4.0)\n",
            "Requirement already satisfied: certifi>=2017.4.17 in /usr/local/lib/python3.11/dist-packages (from requests>=2.31->yfinance) (2025.4.26)\n",
            "Requirement already satisfied: jinja2 in /usr/local/lib/python3.11/dist-packages (from osqp>=0.6.2->cvxpy>=1.1.19->PyPortfolioOpt) (3.1.6)\n",
            "Requirement already satisfied: setuptools in /usr/local/lib/python3.11/dist-packages (from osqp>=0.6.2->cvxpy>=1.1.19->PyPortfolioOpt) (75.2.0)\n",
            "Requirement already satisfied: joblib in /usr/local/lib/python3.11/dist-packages (from osqp>=0.6.2->cvxpy>=1.1.19->PyPortfolioOpt) (1.4.2)\n",
            "Requirement already satisfied: six>=1.5 in /usr/local/lib/python3.11/dist-packages (from python-dateutil>=2.8.2->pandas>=0.19->PyPortfolioOpt) (1.17.0)\n",
            "Requirement already satisfied: MarkupSafe>=2.0 in /usr/local/lib/python3.11/dist-packages (from jinja2->osqp>=0.6.2->cvxpy>=1.1.19->PyPortfolioOpt) (3.0.2)\n",
            "Downloading real stock data...\n"
          ]
        },
        {
          "output_type": "stream",
          "name": "stderr",
          "text": [
            "[*********************100%***********************]  3 of 3 completed\n",
            "ERROR:yfinance:\n",
            "3 Failed downloads:\n",
            "ERROR:yfinance:['AAPL', 'GOOG', 'MSFT']: YFRateLimitError('Too Many Requests. Rate limited. Try after a while.')\n"
          ]
        },
        {
          "output_type": "stream",
          "name": "stdout",
          "text": [
            "\n",
            "Returns data shape: (0, 3)\n",
            "Empty DataFrame\n",
            "Columns: [AAPL, GOOG, MSFT]\n",
            "Index: []\n",
            "Warning: No valid returns data - using minimal synthetic example\n",
            "\n",
            "Optimal Portfolio Weights:\n",
            "AAPL: 0.00%\n",
            "MSFT: 0.00%\n",
            "GOOG: 100.00%\n"
          ]
        },
        {
          "output_type": "stream",
          "name": "stderr",
          "text": [
            "/usr/local/lib/python3.11/dist-packages/pypfopt/risk_models.py:70: UserWarning: The covariance matrix is non positive semidefinite. Amending eigenvalues.\n",
            "  warnings.warn(\n",
            "/usr/local/lib/python3.11/dist-packages/pypfopt/risk_models.py:89: UserWarning: Could not fix matrix. Please try a different risk model.\n",
            "  warnings.warn(\n"
          ]
        }
      ]
    },
    {
      "cell_type": "code",
      "source": [
        "# First install the package\n",
        "!pip install empyrical\n",
        "\n",
        "# Then use it for performance metrics\n",
        "from empyrical import sharpe_ratio, max_drawdown\n",
        "\n",
        "portfolio_returns = returns.dot(pd.Series(cleaned_weights))\n",
        "\n",
        "# Annualized Sharpe ratio (assuming daily returns)\n",
        "sharpe = sharpe_ratio(portfolio_returns, annualization=252)\n",
        "print(f\"Annualized Sharpe Ratio: {sharpe:.2f}\")\n",
        "\n",
        "# Max drawdown\n",
        "drawdown = max_drawdown(portfolio_returns)\n",
        "print(f\"Max Drawdown: {drawdown:.2%}\")"
      ],
      "metadata": {
        "colab": {
          "base_uri": "https://localhost:8080/"
        },
        "id": "nCdpgEHyUf3W",
        "outputId": "a404ef96-249b-4b3b-ae2f-af05f1f61551"
      },
      "execution_count": 23,
      "outputs": [
        {
          "output_type": "stream",
          "name": "stdout",
          "text": [
            "Collecting empyrical\n",
            "  Downloading empyrical-0.5.5.tar.gz (52 kB)\n",
            "\u001b[?25l     \u001b[90m━━━━━━━━━━━━━━━━━━━━━━━━━━━━━━━━━━━━━━━━\u001b[0m \u001b[32m0.0/52.8 kB\u001b[0m \u001b[31m?\u001b[0m eta \u001b[36m-:--:--\u001b[0m\r\u001b[2K     \u001b[90m━━━━━━━━━━━━━━━━━━━━━━━━━━━━━━━━━━━━━━━━\u001b[0m \u001b[32m52.8/52.8 kB\u001b[0m \u001b[31m2.2 MB/s\u001b[0m eta \u001b[36m0:00:00\u001b[0m\n",
            "\u001b[?25h  Preparing metadata (setup.py) ... \u001b[?25l\u001b[?25hdone\n",
            "Requirement already satisfied: numpy>=1.9.2 in /usr/local/lib/python3.11/dist-packages (from empyrical) (2.0.2)\n",
            "Requirement already satisfied: pandas>=0.16.1 in /usr/local/lib/python3.11/dist-packages (from empyrical) (2.2.2)\n",
            "Requirement already satisfied: scipy>=0.15.1 in /usr/local/lib/python3.11/dist-packages (from empyrical) (1.15.2)\n",
            "Requirement already satisfied: pandas-datareader>=0.2 in /usr/local/lib/python3.11/dist-packages (from empyrical) (0.10.0)\n",
            "Requirement already satisfied: python-dateutil>=2.8.2 in /usr/local/lib/python3.11/dist-packages (from pandas>=0.16.1->empyrical) (2.9.0.post0)\n",
            "Requirement already satisfied: pytz>=2020.1 in /usr/local/lib/python3.11/dist-packages (from pandas>=0.16.1->empyrical) (2025.2)\n",
            "Requirement already satisfied: tzdata>=2022.7 in /usr/local/lib/python3.11/dist-packages (from pandas>=0.16.1->empyrical) (2025.2)\n",
            "Requirement already satisfied: lxml in /usr/local/lib/python3.11/dist-packages (from pandas-datareader>=0.2->empyrical) (5.4.0)\n",
            "Requirement already satisfied: requests>=2.19.0 in /usr/local/lib/python3.11/dist-packages (from pandas-datareader>=0.2->empyrical) (2.32.3)\n",
            "Requirement already satisfied: six>=1.5 in /usr/local/lib/python3.11/dist-packages (from python-dateutil>=2.8.2->pandas>=0.16.1->empyrical) (1.17.0)\n",
            "Requirement already satisfied: charset-normalizer<4,>=2 in /usr/local/lib/python3.11/dist-packages (from requests>=2.19.0->pandas-datareader>=0.2->empyrical) (3.4.1)\n",
            "Requirement already satisfied: idna<4,>=2.5 in /usr/local/lib/python3.11/dist-packages (from requests>=2.19.0->pandas-datareader>=0.2->empyrical) (3.10)\n",
            "Requirement already satisfied: urllib3<3,>=1.21.1 in /usr/local/lib/python3.11/dist-packages (from requests>=2.19.0->pandas-datareader>=0.2->empyrical) (2.4.0)\n",
            "Requirement already satisfied: certifi>=2017.4.17 in /usr/local/lib/python3.11/dist-packages (from requests>=2.19.0->pandas-datareader>=0.2->empyrical) (2025.4.26)\n",
            "Building wheels for collected packages: empyrical\n",
            "  Building wheel for empyrical (setup.py) ... \u001b[?25l\u001b[?25hdone\n",
            "  Created wheel for empyrical: filename=empyrical-0.5.5-py3-none-any.whl size=39752 sha256=e37f0f83c6c6aa7477dbe9ea985eeb067b13841d1e271f8239e30f0bdd25d17a\n",
            "  Stored in directory: /root/.cache/pip/wheels/ac/1d/58/a7ae5ef5c8de7c4b769f24c2584f4706564921f031b16b9cb6\n",
            "Successfully built empyrical\n",
            "Installing collected packages: empyrical\n",
            "Successfully installed empyrical-0.5.5\n",
            "Annualized Sharpe Ratio: 31.75\n",
            "Max Drawdown: 0.00%\n"
          ]
        }
      ]
    },
    {
      "cell_type": "code",
      "source": [
        "import matplotlib.pyplot as plt\n",
        "\n",
        "\n",
        "plt.plot(portfolio_returns.cumsum())\n",
        "plt.title(\"Strategy Performance\")\n",
        "plt.savefig(\"equity_curve.png\")\n"
      ],
      "metadata": {
        "colab": {
          "base_uri": "https://localhost:8080/",
          "height": 452
        },
        "id": "iV13YG9KUvEO",
        "outputId": "b9ff22ec-8c1a-4690-f817-edb1e176c2a2"
      },
      "execution_count": 25,
      "outputs": [
        {
          "output_type": "display_data",
          "data": {
            "text/plain": [
              "<Figure size 640x480 with 1 Axes>"
            ],
            "image/png": "[encoded data removed]"
          },
          "metadata": {}
        }
      ]
    },
    {
      "cell_type": "code",
      "source": [
        "import tabulate\n",
        "metrics = {\"Sharpe Ratio\": sharpe, \"Max Drawdown\": drawdown}\n",
        "print(tabulate.tabulate(metrics.items(), headers=[\"Metric\", \"Value\"]))"
      ],
      "metadata": {
        "colab": {
          "base_uri": "https://localhost:8080/"
        },
        "id": "5Ybp29dRVoAB",
        "outputId": "b6d733d5-2183-4c52-9290-3f8a58cedf84"
      },
      "execution_count": 26,
      "outputs": [
        {
          "output_type": "stream",
          "name": "stdout",
          "text": [
            "Metric          Value\n",
            "------------  -------\n",
            "Sharpe Ratio   31.749\n",
            "Max Drawdown    0\n"
          ]
        }
      ]
    }
  ]
}